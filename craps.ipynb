{
 "cells": [
  {
   "cell_type": "code",
   "execution_count": 9,
   "metadata": {},
   "outputs": [],
   "source": [
    "import random"
   ]
  },
  {
   "cell_type": "code",
   "execution_count": 11,
   "metadata": {},
   "outputs": [
    {
     "name": "stdout",
     "output_type": "stream",
     "text": [
      "Введите число от 1 до 6: а\n",
      "Вы ввели некорректные символы\n"
     ]
    }
   ],
   "source": [
    "def __main__(you_number, number):\n",
    "    if you_number == number:\n",
    "        print('Поздравляю, вы угадали')\n",
    "    else:\n",
    "        print(f'Очень жаль, вы не угадали. Мы задумали число {number}. Попробуйте еще раз. ')\n",
    "\n",
    "def correct_number(you_number, number):\n",
    "    if isInt(you_number):\n",
    "        __main__(int(you_number), number)\n",
    "    else:\n",
    "        print('Вы ввели некорректные символы')\n",
    "\n",
    "def isInt(value):\n",
    "    try:\n",
    "        int(value)\n",
    "        return True\n",
    "    except ValueError:\n",
    "        return False\n",
    "\n",
    "number = random.randrange(1, 7, 1)\n",
    "you_number = input('Введите число от 1 до 6: ')\n",
    "\n",
    "correct_number(you_number, number)"
   ]
  }
 ],
 "metadata": {
  "kernelspec": {
   "display_name": "Python 3",
   "language": "python",
   "name": "python3"
  },
  "language_info": {
   "codemirror_mode": {
    "name": "ipython",
    "version": 3
   },
   "file_extension": ".py",
   "mimetype": "text/x-python",
   "name": "python",
   "nbconvert_exporter": "python",
   "pygments_lexer": "ipython3",
   "version": "3.7.4"
  }
 },
 "nbformat": 4,
 "nbformat_minor": 2
}

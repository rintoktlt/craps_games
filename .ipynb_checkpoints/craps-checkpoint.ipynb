{
 "cells": [
  {
   "cell_type": "code",
   "execution_count": 4,
   "metadata": {},
   "outputs": [],
   "source": [
    "import random"
   ]
  },
  {
   "cell_type": "code",
   "execution_count": 39,
   "metadata": {},
   "outputs": [
    {
     "name": "stdout",
     "output_type": "stream",
     "text": [
      "Введите число от 1 до 6: 2\n",
      "Поздравляю, вы угадали\n"
     ]
    }
   ],
   "source": [
    "def __main__(you_number, number):\n",
    "    if isInt(you_number):\n",
    "        if int(you_number) >0 and int(you_number) <7:\n",
    "            if check_number(int(you_number), number):\n",
    "                print('Поздравляю, вы угадали')\n",
    "            else:\n",
    "                print(f'Очень жаль, вы не угадали. Мы задумали число {number}. Попробуйте еще раз.')\n",
    "        else:\n",
    "            print('Вы ввели значение вне диапазона с 1 до 6')\n",
    "    else:\n",
    "        print('Вы ввели некорректные символы')\n",
    "\n",
    "#Проверка на правильность числа\n",
    "def check_number(you_number, number):\n",
    "    if you_number == number:\n",
    "        return True\n",
    "    else:\n",
    "        return False\n",
    "        \n",
    "# Проводим проверку на целое число\n",
    "def isInt(value):\n",
    "    try:\n",
    "        int(value)\n",
    "        return True\n",
    "    except ValueError:\n",
    "        return False\n",
    "\n",
    "number = random.randrange(1, 7, 1)\n",
    "you_number = input('Введите число от 1 до 6: ')\n",
    "\n",
    "__main__(you_number, number)"
   ]
  }
 ],
 "metadata": {
  "kernelspec": {
   "display_name": "Python 3",
   "language": "python",
   "name": "python3"
  },
  "language_info": {
   "codemirror_mode": {
    "name": "ipython",
    "version": 3
   },
   "file_extension": ".py",
   "mimetype": "text/x-python",
   "name": "python",
   "nbconvert_exporter": "python",
   "pygments_lexer": "ipython3",
   "version": "3.7.4"
  }
 },
 "nbformat": 4,
 "nbformat_minor": 2
}
